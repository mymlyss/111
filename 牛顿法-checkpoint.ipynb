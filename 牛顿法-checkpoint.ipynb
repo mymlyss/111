{
 "cells": [
  {
   "cell_type": "markdown",
   "metadata": {},
   "source": [
    "# 牛顿法和拟牛顿法"
   ]
  },
  {
   "cell_type": "markdown",
   "metadata": {},
   "source": [
    "### 牛顿法求解线性回归问题"
   ]
  },
  {
   "cell_type": "code",
   "execution_count": 2,
   "metadata": {
    "collapsed": true
   },
   "outputs": [],
   "source": [
    "import numpy as np\n",
    "def lossValue(x, y, w):\n",
    "    '''计算损失函数\n",
    "    para x: 矩阵, 样本集\n",
    "    para y: 矩阵, 标签\n",
    "    para w: 矩阵, 线性回归模型的参数\n",
    "    return: 损失函数值'''\n",
    "    k = y - x*w\n",
    "    return k.T * k / 2"
   ]
  },
  {
   "cell_type": "code",
   "execution_count": 3,
   "metadata": {
    "collapsed": true
   },
   "outputs": [],
   "source": [
    "def gradient(x, y, w):\n",
    "    '''计算一阶导函数的值\n",
    "    para x: 矩阵, 样本集\n",
    "    para y: 矩阵, 标签\n",
    "    para w: 矩阵, 线性回归模型的参数\n",
    "    return: 矩阵, 一阶导数值\n",
    "    '''\n",
    "    m, n = np.shape(x)\n",
    "    g = np.mat(np.zeros((n, 1)))\n",
    "    for i in range(m):\n",
    "        err = y[i, 0] - x[i, ] * w\n",
    "        for j in range(n):\n",
    "            g[j, ] -= err * x[i, j]\n",
    "    return g       "
   ]
  },
  {
   "cell_type": "code",
   "execution_count": 4,
   "metadata": {
    "collapsed": true
   },
   "outputs": [],
   "source": [
    "def hessian(x):\n",
    "    '''计算Hessian矩阵\n",
    "    para x: 矩阵, 样本集\n",
    "    return: 矩阵, Hessian矩阵\n",
    "    '''\n",
    "    m, n = np.shape(x)\n",
    "    a = np.mat(np.zeros((n, n)))\n",
    "    for i in range(m):\n",
    "        xi_T = x[i, ].T\n",
    "        xi = x[i, ]\n",
    "        a += xi_T * xi\n",
    "    return a"
   ]
  },
  {
   "cell_type": "code",
   "execution_count": 5,
   "metadata": {
    "collapsed": true
   },
   "outputs": [],
   "source": [
    "def newton(x, y, iterMax, delta):\n",
    "    '''牛顿法\n",
    "    para x: 矩阵, 样本集\n",
    "    para y: 矩阵, 标签\n",
    "    para iterMax: int, 最大迭代次数\n",
    "    para delta: float, 函数值变化阈值，如迭代后函数值小于该值，则退出\n",
    "    return: mat, 回归系数'''\n",
    "    n = np.shape(x)[1]\n",
    "    w = np.mat(np.zeros((n,1)))\n",
    "    step = 0\n",
    "    loss = lossValue(x, y, w)\n",
    "    print(str(step)+\":\"+str(loss))\n",
    "    while step <= iterMax:\n",
    "        g = gradient(x, y, w)\n",
    "        G = hessian(x)\n",
    "        w = w - G.I*g\n",
    "        newloss = lossValue(x, y, w)\n",
    "        print(str(step+1)+\":\"+str(newloss))\n",
    "        if loss - newloss < delta:\n",
    "            break\n",
    "        else:\n",
    "            loss = newloss\n",
    "        step += 1\n",
    "    return w                "
   ]
  },
  {
   "cell_type": "code",
   "execution_count": 6,
   "metadata": {
    "collapsed": false
   },
   "outputs": [
    {
     "name": "stdout",
     "output_type": "stream",
     "text": [
      "0:[[ 71497.5]]\n",
      "1:[[ 53.40952381]]\n",
      "2:[[ 53.40952381]]\n",
      "[[ 114.39047619]\n",
      " [   1.43428571]]\n"
     ]
    }
   ],
   "source": [
    "temperatures = [15, 20, 25, 30, 35,40]\n",
    "flowers = [136, 140, 155, 160, 157, 175]\n",
    "X = (np.mat([[1,1,1,1,1,1], temperatures])).T\n",
    "Y = (np.mat(flowers)).T\n",
    "w = newton(X, Y, 1000, 0.01)\n",
    "print(w)"
   ]
  },
  {
   "cell_type": "code",
   "execution_count": null,
   "metadata": {
    "collapsed": true
   },
   "outputs": [],
   "source": []
  }
 ],
 "metadata": {
  "kernelspec": {
   "display_name": "Python 3",
   "language": "python",
   "name": "python3"
  },
  "language_info": {
   "codemirror_mode": {
    "name": "ipython",
    "version": 3
   },
   "file_extension": ".py",
   "mimetype": "text/x-python",
   "name": "python",
   "nbconvert_exporter": "python",
   "pygments_lexer": "ipython3",
   "version": "3.6.8"
  }
 },
 "nbformat": 4,
 "nbformat_minor": 2
}
