{
 "cells": [
  {
   "cell_type": "markdown",
   "metadata": {},
   "source": [
    "# 局部加权线性回归"
   ]
  },
  {
   "cell_type": "markdown",
   "metadata": {},
   "source": [
    "采用“欠拟合、过拟合”例子中的数据"
   ]
  },
  {
   "cell_type": "code",
   "execution_count": 65,
   "metadata": {},
   "outputs": [],
   "source": [
    "import numpy as np\n",
    "x = np.array([-3., -2., -1.,  0.,  1.,  2.,  3.])\n",
    "x = x.reshape(1,-1)\n",
    "y = np.array([-136.49570384,   -8.98763646,  -23.33764477,   50.97656894, 20.19888523,   35.76052266,  199.48378741])\n",
    "y = y.reshape(1,-1)"
   ]
  },
  {
   "cell_type": "code",
   "execution_count": 66,
   "metadata": {
    "collapsed": true
   },
   "outputs": [],
   "source": [
    "import numpy as np\n",
    "def lwlr(t,X,Y,k=1.0):\n",
    "    '''最小二乘法求解局部加权线性回归\n",
    "    para t：矩阵，测试样本\n",
    "    para X: 矩阵，样本特征矩阵\n",
    "    para Y: 矩阵，标签\n",
    "    para k：核函数系数\n",
    "    return：预测值\n",
    "    '''\n",
    "    m = np.shape(X)[1]\n",
    "    Q = np.mat(np.eye((m)))\n",
    "    for i in range(m):                      \n",
    "        diffX = X[:,i] - t     \n",
    "        Q[i,i] = np.exp(-diffX.T*diffX/(2.0*k**2))\n",
    "    w = (X * Q * X.T).I * X * Q * Y.T\n",
    "    return w * t"
   ]
  },
  {
   "cell_type": "code",
   "execution_count": 67,
   "metadata": {
    "collapsed": true
   },
   "outputs": [],
   "source": [
    "def lwlrTest(t,X,Y,k=1.0):  \n",
    "    m = np.shape(t)[0]\n",
    "    predict = np.zeros(m)\n",
    "    for i in range(m):\n",
    "        predict[i] = lwlr(t[i],X,Y,k)\n",
    "    return predict"
   ]
  },
  {
   "cell_type": "code",
   "execution_count": 68,
   "metadata": {
    "collapsed": true
   },
   "outputs": [],
   "source": [
    "x1 = np.mat(x)\n",
    "y1 = np.mat(y)"
   ]
  },
  {
   "cell_type": "code",
   "execution_count": 69,
   "metadata": {},
   "outputs": [],
   "source": [
    "xx = np.linspace(-3, 3, 100)\n",
    "xx = xx.reshape(-1,1)"
   ]
  },
  {
   "cell_type": "code",
   "execution_count": 72,
   "metadata": {},
   "outputs": [
    {
     "data": {
      "image/png": "[encoded data removed]",
      "text/plain": [
       "<matplotlib.figure.Figure at 0x83b27b8>"
      ]
     },
     "metadata": {},
     "output_type": "display_data"
    }
   ],
   "source": [
    "%matplotlib inline\n",
    "import matplotlib.pyplot as plt\n",
    "plt.rcParams['axes.unicode_minus']=False\n",
    "plt.rc('font', family='SimHei', size=13)\n",
    "plt.scatter(x, y, color=\"green\", linewidth=2)\n",
    "pridict = lwlrTest(xx,x1,y1,k=5.0)\n",
    "plt.plot(xx, pridict, color=\"green\", linewidth=2, linestyle=':', label=\"k=5.0\")\n",
    "pridict = lwlrTest(xx,x1,y1,k=1.0)\n",
    "plt.plot(xx, pridict, color=\"red\", linewidth=2, linestyle='-',label=\"k=1.0\")\n",
    "pridict = lwlrTest(xx,x1,y1,k=0.5)\n",
    "plt.plot(xx, pridict, color=\"black\", linewidth=2, linestyle='-.', label=\"k=0.5\")\n",
    "pridict = lwlrTest(xx,x1,y1,k=0.05)\n",
    "plt.plot(xx, pridict, color=\"blue\", linewidth=2, linestyle='--', label=\"k=0.05\")\n",
    "plt.legend(loc='lower right')\n",
    "plt.show()"
   ]
  },
  {
   "cell_type": "code",
   "execution_count": null,
   "metadata": {
    "collapsed": true
   },
   "outputs": [],
   "source": []
  },
  {
   "cell_type": "code",
   "execution_count": null,
   "metadata": {
    "collapsed": true
   },
   "outputs": [],
   "source": []
  }
 ],
 "metadata": {
  "kernelspec": {
   "display_name": "Python 3",
   "language": "python",
   "name": "python3"
  },
  "language_info": {
   "codemirror_mode": {
    "name": "ipython",
    "version": 3
   },
   "file_extension": ".py",
   "mimetype": "text/x-python",
   "name": "python",
   "nbconvert_exporter": "python",
   "pygments_lexer": "ipython3",
   "version": "3.7.3"
  }
 },
 "nbformat": 4,
 "nbformat_minor": 2
}
